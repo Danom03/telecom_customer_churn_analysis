{
 "cells": [
  {
   "cell_type": "markdown",
   "id": "daec1a27-8451-40a0-803d-c70bfb9a5d36",
   "metadata": {},
   "source": [
    "# Problem Statement"
   ]
  },
  {
   "cell_type": "markdown",
   "id": "fa6b27e0-1290-43d0-a845-978795fa0377",
   "metadata": {},
   "source": [
    "Make a model to predict the Customer Churn of a telecom Company."
   ]
  },
  {
   "cell_type": "code",
   "execution_count": 1,
   "id": "d8ec7504-9831-46da-9917-07dac83f9d42",
   "metadata": {},
   "outputs": [],
   "source": [
    "import numpy as np\n",
    "import pandas as pd\n",
    "import scipy.stats as st\n",
    "import matplotlib.pyplot as plt\n",
    "import seaborn as sns\n",
    "import pickle\n",
    "import warnings\n",
    "warnings.filterwarnings('ignore')\n",
    "\n",
    "from sklearn.compose import ColumnTransformer\n",
    "from sklearn.pipeline import Pipeline\n",
    "from sklearn.impute import SimpleImputer\n",
    "from sklearn.preprocessing import OrdinalEncoder,OneHotEncoder\n",
    "from sklearn.model_selection import train_test_split\n",
    "from sklearn.linear_model import LogisticRegression\n",
    "from sklearn.metrics import accuracy_score,precision_score,recall_score,f1_score"
   ]
  },
  {
   "cell_type": "code",
   "execution_count": 86,
   "id": "d3a08dd3-0109-4db2-8b03-f76f141a731b",
   "metadata": {},
   "outputs": [
    {
     "data": {
      "text/html": [
       "<div>\n",
       "<style scoped>\n",
       "    .dataframe tbody tr th:only-of-type {\n",
       "        vertical-align: middle;\n",
       "    }\n",
       "\n",
       "    .dataframe tbody tr th {\n",
       "        vertical-align: top;\n",
       "    }\n",
       "\n",
       "    .dataframe thead th {\n",
       "        text-align: right;\n",
       "    }\n",
       "</style>\n",
       "<table border=\"1\" class=\"dataframe\">\n",
       "  <thead>\n",
       "    <tr style=\"text-align: right;\">\n",
       "      <th></th>\n",
       "      <th>customerID</th>\n",
       "      <th>gender</th>\n",
       "      <th>SeniorCitizen</th>\n",
       "      <th>Partner</th>\n",
       "      <th>Dependents</th>\n",
       "      <th>tenure</th>\n",
       "      <th>PhoneService</th>\n",
       "      <th>MultipleLines</th>\n",
       "      <th>InternetService</th>\n",
       "      <th>OnlineSecurity</th>\n",
       "      <th>...</th>\n",
       "      <th>DeviceProtection</th>\n",
       "      <th>TechSupport</th>\n",
       "      <th>StreamingTV</th>\n",
       "      <th>StreamingMovies</th>\n",
       "      <th>Contract</th>\n",
       "      <th>PaperlessBilling</th>\n",
       "      <th>PaymentMethod</th>\n",
       "      <th>MonthlyCharges</th>\n",
       "      <th>TotalCharges</th>\n",
       "      <th>Churn</th>\n",
       "    </tr>\n",
       "  </thead>\n",
       "  <tbody>\n",
       "    <tr>\n",
       "      <th>0</th>\n",
       "      <td>7590-VHVEG</td>\n",
       "      <td>Female</td>\n",
       "      <td>0</td>\n",
       "      <td>Yes</td>\n",
       "      <td>No</td>\n",
       "      <td>1</td>\n",
       "      <td>No</td>\n",
       "      <td>No phone service</td>\n",
       "      <td>DSL</td>\n",
       "      <td>No</td>\n",
       "      <td>...</td>\n",
       "      <td>No</td>\n",
       "      <td>No</td>\n",
       "      <td>No</td>\n",
       "      <td>No</td>\n",
       "      <td>Month-to-month</td>\n",
       "      <td>Yes</td>\n",
       "      <td>Electronic check</td>\n",
       "      <td>29.85</td>\n",
       "      <td>29.85</td>\n",
       "      <td>No</td>\n",
       "    </tr>\n",
       "    <tr>\n",
       "      <th>1</th>\n",
       "      <td>5575-GNVDE</td>\n",
       "      <td>Male</td>\n",
       "      <td>0</td>\n",
       "      <td>No</td>\n",
       "      <td>No</td>\n",
       "      <td>34</td>\n",
       "      <td>Yes</td>\n",
       "      <td>No</td>\n",
       "      <td>DSL</td>\n",
       "      <td>Yes</td>\n",
       "      <td>...</td>\n",
       "      <td>Yes</td>\n",
       "      <td>No</td>\n",
       "      <td>No</td>\n",
       "      <td>No</td>\n",
       "      <td>One year</td>\n",
       "      <td>No</td>\n",
       "      <td>Mailed check</td>\n",
       "      <td>56.95</td>\n",
       "      <td>1889.5</td>\n",
       "      <td>No</td>\n",
       "    </tr>\n",
       "    <tr>\n",
       "      <th>2</th>\n",
       "      <td>3668-QPYBK</td>\n",
       "      <td>Male</td>\n",
       "      <td>0</td>\n",
       "      <td>No</td>\n",
       "      <td>No</td>\n",
       "      <td>2</td>\n",
       "      <td>Yes</td>\n",
       "      <td>No</td>\n",
       "      <td>DSL</td>\n",
       "      <td>Yes</td>\n",
       "      <td>...</td>\n",
       "      <td>No</td>\n",
       "      <td>No</td>\n",
       "      <td>No</td>\n",
       "      <td>No</td>\n",
       "      <td>Month-to-month</td>\n",
       "      <td>Yes</td>\n",
       "      <td>Mailed check</td>\n",
       "      <td>53.85</td>\n",
       "      <td>108.15</td>\n",
       "      <td>Yes</td>\n",
       "    </tr>\n",
       "    <tr>\n",
       "      <th>3</th>\n",
       "      <td>7795-CFOCW</td>\n",
       "      <td>Male</td>\n",
       "      <td>0</td>\n",
       "      <td>No</td>\n",
       "      <td>No</td>\n",
       "      <td>45</td>\n",
       "      <td>No</td>\n",
       "      <td>No phone service</td>\n",
       "      <td>DSL</td>\n",
       "      <td>Yes</td>\n",
       "      <td>...</td>\n",
       "      <td>Yes</td>\n",
       "      <td>Yes</td>\n",
       "      <td>No</td>\n",
       "      <td>No</td>\n",
       "      <td>One year</td>\n",
       "      <td>No</td>\n",
       "      <td>Bank transfer (automatic)</td>\n",
       "      <td>42.30</td>\n",
       "      <td>1840.75</td>\n",
       "      <td>No</td>\n",
       "    </tr>\n",
       "    <tr>\n",
       "      <th>4</th>\n",
       "      <td>9237-HQITU</td>\n",
       "      <td>Female</td>\n",
       "      <td>0</td>\n",
       "      <td>No</td>\n",
       "      <td>No</td>\n",
       "      <td>2</td>\n",
       "      <td>Yes</td>\n",
       "      <td>No</td>\n",
       "      <td>Fiber optic</td>\n",
       "      <td>No</td>\n",
       "      <td>...</td>\n",
       "      <td>No</td>\n",
       "      <td>No</td>\n",
       "      <td>No</td>\n",
       "      <td>No</td>\n",
       "      <td>Month-to-month</td>\n",
       "      <td>Yes</td>\n",
       "      <td>Electronic check</td>\n",
       "      <td>70.70</td>\n",
       "      <td>151.65</td>\n",
       "      <td>Yes</td>\n",
       "    </tr>\n",
       "  </tbody>\n",
       "</table>\n",
       "<p>5 rows × 21 columns</p>\n",
       "</div>"
      ],
      "text/plain": [
       "   customerID  gender  SeniorCitizen Partner Dependents  tenure PhoneService  \\\n",
       "0  7590-VHVEG  Female              0     Yes         No       1           No   \n",
       "1  5575-GNVDE    Male              0      No         No      34          Yes   \n",
       "2  3668-QPYBK    Male              0      No         No       2          Yes   \n",
       "3  7795-CFOCW    Male              0      No         No      45           No   \n",
       "4  9237-HQITU  Female              0      No         No       2          Yes   \n",
       "\n",
       "      MultipleLines InternetService OnlineSecurity  ... DeviceProtection  \\\n",
       "0  No phone service             DSL             No  ...               No   \n",
       "1                No             DSL            Yes  ...              Yes   \n",
       "2                No             DSL            Yes  ...               No   \n",
       "3  No phone service             DSL            Yes  ...              Yes   \n",
       "4                No     Fiber optic             No  ...               No   \n",
       "\n",
       "  TechSupport StreamingTV StreamingMovies        Contract PaperlessBilling  \\\n",
       "0          No          No              No  Month-to-month              Yes   \n",
       "1          No          No              No        One year               No   \n",
       "2          No          No              No  Month-to-month              Yes   \n",
       "3         Yes          No              No        One year               No   \n",
       "4          No          No              No  Month-to-month              Yes   \n",
       "\n",
       "               PaymentMethod MonthlyCharges  TotalCharges Churn  \n",
       "0           Electronic check          29.85         29.85    No  \n",
       "1               Mailed check          56.95        1889.5    No  \n",
       "2               Mailed check          53.85        108.15   Yes  \n",
       "3  Bank transfer (automatic)          42.30       1840.75    No  \n",
       "4           Electronic check          70.70        151.65   Yes  \n",
       "\n",
       "[5 rows x 21 columns]"
      ]
     },
     "execution_count": 86,
     "metadata": {},
     "output_type": "execute_result"
    }
   ],
   "source": [
    "customer_churn = pd.read_csv('telecom_churn.csv')\n",
    "customer_churn.head()"
   ]
  },
  {
   "cell_type": "code",
   "execution_count": 87,
   "id": "3d31004e-38ab-451d-a03f-245816754db4",
   "metadata": {},
   "outputs": [
    {
     "name": "stdout",
     "output_type": "stream",
     "text": [
      "<class 'pandas.core.frame.DataFrame'>\n",
      "RangeIndex: 7043 entries, 0 to 7042\n",
      "Data columns (total 21 columns):\n",
      " #   Column            Non-Null Count  Dtype  \n",
      "---  ------            --------------  -----  \n",
      " 0   customerID        7043 non-null   object \n",
      " 1   gender            7043 non-null   object \n",
      " 2   SeniorCitizen     7043 non-null   int64  \n",
      " 3   Partner           7043 non-null   object \n",
      " 4   Dependents        7043 non-null   object \n",
      " 5   tenure            7043 non-null   int64  \n",
      " 6   PhoneService      7043 non-null   object \n",
      " 7   MultipleLines     7043 non-null   object \n",
      " 8   InternetService   7043 non-null   object \n",
      " 9   OnlineSecurity    7043 non-null   object \n",
      " 10  OnlineBackup      7043 non-null   object \n",
      " 11  DeviceProtection  7043 non-null   object \n",
      " 12  TechSupport       7043 non-null   object \n",
      " 13  StreamingTV       7043 non-null   object \n",
      " 14  StreamingMovies   7043 non-null   object \n",
      " 15  Contract          7043 non-null   object \n",
      " 16  PaperlessBilling  7043 non-null   object \n",
      " 17  PaymentMethod     7043 non-null   object \n",
      " 18  MonthlyCharges    7043 non-null   float64\n",
      " 19  TotalCharges      7043 non-null   object \n",
      " 20  Churn             7043 non-null   object \n",
      "dtypes: float64(1), int64(2), object(18)\n",
      "memory usage: 1.1+ MB\n"
     ]
    }
   ],
   "source": [
    "customer_churn.info()"
   ]
  },
  {
   "cell_type": "markdown",
   "id": "0eca8791-8901-45fc-928b-3545426491a5",
   "metadata": {},
   "source": [
    "# Preprocessing"
   ]
  },
  {
   "cell_type": "code",
   "execution_count": 88,
   "id": "0c9c8d9e-f459-4351-82e2-7871fe6fd66c",
   "metadata": {},
   "outputs": [],
   "source": [
    "customer_churn.drop(columns=['customerID'],inplace=True)"
   ]
  },
  {
   "cell_type": "code",
   "execution_count": 89,
   "id": "1b3372fa-35af-4437-80e2-6f47cf069e1d",
   "metadata": {},
   "outputs": [],
   "source": [
    "customer_churn['MonthlyCharges'] = pd.to_numeric(customer_churn['MonthlyCharges'])\n",
    "customer_churn['TotalCharges'] = pd.to_numeric(customer_churn['TotalCharges'],errors='coerce')"
   ]
  },
  {
   "cell_type": "code",
   "execution_count": 90,
   "id": "a13349f5-e56f-4432-8574-b945e2416212",
   "metadata": {},
   "outputs": [],
   "source": [
    "# Creating functions to use in future\n",
    "def print_cat_unique(df):\n",
    "    '''Prints unique values of categorical columns.'''\n",
    "    for col in df:\n",
    "        if df[col].dtypes == 'object':\n",
    "            print(f'{col}: {df[col].unique()}')\n",
    "\n",
    "def auto_or_manual(value):\n",
    "    '''Create a new column for automatic or manual in dataframe.'''\n",
    "    val =value.split('(')\n",
    "    value = val[-1].split(')')\n",
    "    if value[0] == 'automatic':\n",
    "        return 1\n",
    "    else:\n",
    "        return 0"
   ]
  },
  {
   "cell_type": "code",
   "execution_count": 91,
   "id": "fc4342df-f618-4441-b461-e62ac9f5fc24",
   "metadata": {
    "scrolled": true
   },
   "outputs": [
    {
     "name": "stdout",
     "output_type": "stream",
     "text": [
      "gender: ['Female' 'Male']\n",
      "Partner: ['Yes' 'No']\n",
      "Dependents: ['No' 'Yes']\n",
      "PhoneService: ['No' 'Yes']\n",
      "MultipleLines: ['No phone service' 'No' 'Yes']\n",
      "InternetService: ['DSL' 'Fiber optic' 'No']\n",
      "OnlineSecurity: ['No' 'Yes' 'No internet service']\n",
      "OnlineBackup: ['Yes' 'No' 'No internet service']\n",
      "DeviceProtection: ['No' 'Yes' 'No internet service']\n",
      "TechSupport: ['No' 'Yes' 'No internet service']\n",
      "StreamingTV: ['No' 'Yes' 'No internet service']\n",
      "StreamingMovies: ['No' 'Yes' 'No internet service']\n",
      "Contract: ['Month-to-month' 'One year' 'Two year']\n",
      "PaperlessBilling: ['Yes' 'No']\n",
      "PaymentMethod: ['Electronic check' 'Mailed check' 'Bank transfer (automatic)'\n",
      " 'Credit card (automatic)']\n",
      "Churn: ['No' 'Yes']\n"
     ]
    }
   ],
   "source": [
    "print_cat_unique(customer_churn)"
   ]
  },
  {
   "cell_type": "code",
   "execution_count": 92,
   "id": "e72de013-b509-4777-819f-dacfb0613819",
   "metadata": {},
   "outputs": [],
   "source": [
    "customer_churn.replace('No phone service','No', inplace=True)\n",
    "customer_churn.replace('No internet service','No',inplace=True)"
   ]
  },
  {
   "cell_type": "code",
   "execution_count": 93,
   "id": "1e5e72b9-d7b6-493e-a89b-c9322ee038f5",
   "metadata": {},
   "outputs": [],
   "source": [
    "customer_churn['Automatic'] = customer_churn['PaymentMethod'].apply(auto_or_manual)"
   ]
  },
  {
   "cell_type": "code",
   "execution_count": 94,
   "id": "d506762b-959d-46f4-8a9c-a9937e1de8f2",
   "metadata": {},
   "outputs": [],
   "source": [
    "# Conveting categorical to numerical values\n",
    "customer_churn['Churn'] = np.where(customer_churn['Churn'] == 'Yes',1,0)"
   ]
  },
  {
   "cell_type": "code",
   "execution_count": 95,
   "id": "632c329c-29ae-4904-8598-25a50e7031a2",
   "metadata": {},
   "outputs": [
    {
     "data": {
      "text/plain": [
       "gender               0\n",
       "SeniorCitizen        0\n",
       "Partner              0\n",
       "Dependents           0\n",
       "tenure               0\n",
       "PhoneService         0\n",
       "MultipleLines        0\n",
       "InternetService      0\n",
       "OnlineSecurity       0\n",
       "OnlineBackup         0\n",
       "DeviceProtection     0\n",
       "TechSupport          0\n",
       "StreamingTV          0\n",
       "StreamingMovies      0\n",
       "Contract             0\n",
       "PaperlessBilling     0\n",
       "PaymentMethod        0\n",
       "MonthlyCharges       0\n",
       "TotalCharges        11\n",
       "Churn                0\n",
       "Automatic            0\n",
       "dtype: int64"
      ]
     },
     "execution_count": 95,
     "metadata": {},
     "output_type": "execute_result"
    }
   ],
   "source": [
    "# Checking for null values.\n",
    "customer_churn.isnull().sum()"
   ]
  },
  {
   "cell_type": "markdown",
   "id": "df3a14b0-f9cc-4ac2-9013-f8908d4de9b9",
   "metadata": {},
   "source": [
    "I tried filling null values with mean and median but as the null values is very less, filling null values won't make much difference. Therefore we can drop it."
   ]
  },
  {
   "cell_type": "code",
   "execution_count": 96,
   "id": "7145ec62-cc0a-4394-ab60-8f6bbef96926",
   "metadata": {},
   "outputs": [],
   "source": [
    "df = customer_churn.copy()\n",
    "df = df.dropna(how='any',axis=0)"
   ]
  },
  {
   "cell_type": "markdown",
   "id": "0d147137-5e33-4ec4-a9a4-cbda7894dfae",
   "metadata": {},
   "source": [
    "Range of Tenure, Monthly Charges and Total Charges is very large compared to other values, so we scale them for the model."
   ]
  },
  {
   "cell_type": "code",
   "execution_count": 97,
   "id": "457c59f7-c5fa-442d-b598-36bb176c8b19",
   "metadata": {},
   "outputs": [],
   "source": [
    "from sklearn.preprocessing import MinMaxScaler\n",
    "minmax = MinMaxScaler()    # Scale values in the range of 0 to 1\n",
    "columns_to_scale = ['tenure','MonthlyCharges','TotalCharges']\n",
    "df[columns_to_scale] = minmax.fit_transform(df[columns_to_scale])"
   ]
  },
  {
   "cell_type": "code",
   "execution_count": 98,
   "id": "848fff71-43d0-4286-b1f6-fb9a0b75f2fd",
   "metadata": {},
   "outputs": [],
   "source": [
    "# Functions for modeling\n",
    "def lr_model(df=pd.DataFrame(),X=None,y=None):\n",
    "    '''Splits dataframe into train and test then applies logistic regression on it.\n",
    "    df: pd.DataFrame to use for logistic regression.default value is None.\n",
    "    X: independent variables. Defualt value is None.\n",
    "    y: dependent variable. Default value is None.\n",
    "    Returns:\n",
    "        y_test: true value of the test dataset.\n",
    "        y_pred: predicted value of the test dataset.\n",
    "    '''\n",
    "    if df.empty:\n",
    "        X = X\n",
    "        y = y\n",
    "    else:\n",
    "        X = df.drop('Churn',axis=1)\n",
    "        y = df['Churn']\n",
    "\n",
    "    X_train,X_test,y_train,y_test = train_test_split(X,y,train_size=0.8,random_state=42)\n",
    "    model = LogisticRegression()\n",
    "    model.fit(X_train,y_train)\n",
    "    y_pred = model.predict(X_test)\n",
    "    return (y_test,y_pred)\n",
    "\n",
    "def score_check(y_true,y_pred):\n",
    "    '''Returns Accuracy Score, Precision Score, Recall Score and F1 Score.'''\n",
    "    print('Accuracy Score:', accuracy_score(y_true,y_pred)) #Correct classification/ total classification\n",
    "    print('Precision Score:', precision_score(y_true,y_pred)) # proportion of positive prediction was actually correct\n",
    "    print('Recall Score:', recall_score(y_true,y_pred)) # proportion of positive predicted correct.\n",
    "    print('F1 Score:', f1_score(y_true,y_pred))"
   ]
  },
  {
   "cell_type": "code",
   "execution_count": 100,
   "id": "73c42dd0-bb2f-4017-ae0a-0f77a340031f",
   "metadata": {},
   "outputs": [],
   "source": [
    "df_dummies = pd.get_dummies(df)\n",
    "y_true, y_pred = lr_model(df_dummies)"
   ]
  },
  {
   "cell_type": "code",
   "execution_count": 101,
   "id": "a7f951fe-a647-402b-8af4-51588dda692e",
   "metadata": {},
   "outputs": [
    {
     "name": "stdout",
     "output_type": "stream",
     "text": [
      "Accuracy Score: 0.7874911158493249\n",
      "Precision Score: 0.6213592233009708\n",
      "Recall Score: 0.5133689839572193\n",
      "F1 Score: 0.5622254758418741\n"
     ]
    }
   ],
   "source": [
    "score_check(y_true,y_pred)"
   ]
  },
  {
   "cell_type": "markdown",
   "id": "55990d9c-5ed9-4543-b4e0-650f9c191903",
   "metadata": {},
   "source": [
    "## Handling Imbalanced Data"
   ]
  },
  {
   "cell_type": "code",
   "execution_count": 102,
   "id": "06034028-53db-4cf1-9e8e-f938811ae28f",
   "metadata": {},
   "outputs": [
    {
     "data": {
      "text/plain": [
       "0    0.734215\n",
       "1    0.265785\n",
       "Name: Churn, dtype: float64"
      ]
     },
     "execution_count": 102,
     "metadata": {},
     "output_type": "execute_result"
    }
   ],
   "source": [
    "df['Churn'].value_counts(normalize=True)"
   ]
  },
  {
   "cell_type": "code",
   "execution_count": 103,
   "id": "a5102ff1-1af9-437a-be37-59a78794b793",
   "metadata": {},
   "outputs": [
    {
     "data": {
      "image/png": "[encoded data removed]",
      "text/plain": [
       "<Figure size 640x480 with 1 Axes>"
      ]
     },
     "metadata": {},
     "output_type": "display_data"
    }
   ],
   "source": [
    "df.groupby('Churn').size().plot(kind='pie',y='Churn',label = \"Type\",autopct='%1.1f%%')\n",
    "plt.show()"
   ]
  },
  {
   "cell_type": "markdown",
   "id": "1920cf22-d924-4abc-80fe-65777f49dcf8",
   "metadata": {},
   "source": [
    "The data is highly imbalanced. We can handle it using two techniques: Downsampling or Upsampling."
   ]
  },
  {
   "cell_type": "markdown",
   "id": "7ab139b6-3c17-463c-9043-aabd51b02c2e",
   "metadata": {},
   "source": [
    "### Downsampling"
   ]
  },
  {
   "cell_type": "code",
   "execution_count": 105,
   "id": "2c2bfe12-8cd3-4585-9f9c-7a3d295ebbb0",
   "metadata": {},
   "outputs": [],
   "source": [
    "# Dividing data into Churned and Not Churned\n",
    "churn = df_dummies[df_dummies['Churn'] == 1]\n",
    "notchurn = df_dummies[df_dummies['Churn'] == 0]"
   ]
  },
  {
   "cell_type": "code",
   "execution_count": 106,
   "id": "c905435b-b355-4bc8-8832-8cf0a01e6834",
   "metadata": {},
   "outputs": [],
   "source": [
    "# Resampling to have same number of observations\n",
    "\n",
    "from sklearn.utils import resample\n",
    "notchurned_resample = resample(notchurn,replace=True,n_samples=len(churn),random_state=42)"
   ]
  },
  {
   "cell_type": "code",
   "execution_count": 107,
   "id": "10becb04-db7d-4c59-91f6-0777e71da646",
   "metadata": {},
   "outputs": [
    {
     "name": "stdout",
     "output_type": "stream",
     "text": [
      "1    1869\n",
      "0    1869\n",
      "Name: Churn, dtype: int64\n"
     ]
    },
    {
     "data": {
      "image/png": "[encoded data removed]",
      "text/plain": [
       "<Figure size 640x480 with 1 Axes>"
      ]
     },
     "metadata": {},
     "output_type": "display_data"
    }
   ],
   "source": [
    "new_df = pd.concat([churn,notchurned_resample])\n",
    "print(new_df['Churn'].value_counts())\n",
    "new_df.groupby('Churn').size().plot(kind='pie',y='Churn',label = \"Type\",autopct='%1.1f%%')\n",
    "plt.show()"
   ]
  },
  {
   "cell_type": "code",
   "execution_count": 108,
   "id": "70c28a9b-64e1-4ffe-a050-911b3d313280",
   "metadata": {},
   "outputs": [
    {
     "name": "stdout",
     "output_type": "stream",
     "text": [
      "Accuracy Score: 0.7606951871657754\n",
      "Precision Score: 0.7450980392156863\n",
      "Recall Score: 0.8021108179419525\n",
      "F1 Score: 0.7725540025412961\n"
     ]
    }
   ],
   "source": [
    "y_true, y_pred = lr_model(new_df)\n",
    "score_check(y_true,y_pred)"
   ]
  },
  {
   "cell_type": "markdown",
   "id": "872a66ee-6ddf-484e-ad6b-2d0e00fde402",
   "metadata": {},
   "source": [
    "**Con of using downsampling:** Valuable information is lost."
   ]
  },
  {
   "cell_type": "markdown",
   "id": "ed19fc47-a310-4d6e-83c1-2fe68e1a7fb4",
   "metadata": {},
   "source": [
    "### Up sampling"
   ]
  },
  {
   "cell_type": "markdown",
   "id": "920f4f6b-bb3c-4bf5-b573-5685fe1620c2",
   "metadata": {},
   "source": [
    "We will use SMOTE for over sampling. SMOTE stands for Synthetic Minority Oversampling Technique."
   ]
  },
  {
   "cell_type": "code",
   "execution_count": 109,
   "id": "e10fb985-f180-42bd-8a92-33332f7fa854",
   "metadata": {},
   "outputs": [],
   "source": [
    "from imblearn.over_sampling import SMOTE"
   ]
  },
  {
   "cell_type": "code",
   "execution_count": 110,
   "id": "286433d5-ed12-460d-b717-e0d55e2feb1e",
   "metadata": {},
   "outputs": [],
   "source": [
    "smote = SMOTE()\n",
    "X = df_dummies.drop('Churn',axis=1)\n",
    "y = df_dummies['Churn']\n",
    "X, y = smote.fit_resample(X,y)"
   ]
  },
  {
   "cell_type": "code",
   "execution_count": 111,
   "id": "6897e18b-aaee-434d-bfaa-fd1c05d28900",
   "metadata": {},
   "outputs": [
    {
     "name": "stdout",
     "output_type": "stream",
     "text": [
      "0    5163\n",
      "1    5163\n",
      "Name: Churn, dtype: int64\n"
     ]
    },
    {
     "data": {
      "image/png": "[encoded data removed]",
      "text/plain": [
       "<Figure size 640x480 with 1 Axes>"
      ]
     },
     "metadata": {},
     "output_type": "display_data"
    }
   ],
   "source": [
    "print(y.value_counts())\n",
    "y.value_counts().plot(kind='pie',y='Churn',label = \"Type\",autopct='%1.1f%%')\n",
    "plt.show()"
   ]
  },
  {
   "cell_type": "code",
   "execution_count": 112,
   "id": "d69700a5-7af4-4041-b9b8-5c400cb2c0f5",
   "metadata": {},
   "outputs": [
    {
     "name": "stdout",
     "output_type": "stream",
     "text": [
      "Accuracy Score: 0.8359148112294289\n",
      "Precision Score: 0.833011583011583\n",
      "Recall Score: 0.8386783284742468\n",
      "F1 Score: 0.8358353510895884\n"
     ]
    }
   ],
   "source": [
    "y_true, y_pred = lr_model(X=X,y=y)\n",
    "score_check(y_true,y_pred)"
   ]
  },
  {
   "cell_type": "markdown",
   "id": "4e79b735-0aee-4db7-8f6a-583863f27b3f",
   "metadata": {},
   "source": [
    "Up sampling gives better results because there is no loss of the information here."
   ]
  },
  {
   "cell_type": "code",
   "execution_count": 113,
   "id": "9a293c94-067f-4f10-8238-ae737a7cf4db",
   "metadata": {},
   "outputs": [
    {
     "data": {
      "text/html": [
       "<div>\n",
       "<style scoped>\n",
       "    .dataframe tbody tr th:only-of-type {\n",
       "        vertical-align: middle;\n",
       "    }\n",
       "\n",
       "    .dataframe tbody tr th {\n",
       "        vertical-align: top;\n",
       "    }\n",
       "\n",
       "    .dataframe thead th {\n",
       "        text-align: right;\n",
       "    }\n",
       "</style>\n",
       "<table border=\"1\" class=\"dataframe\">\n",
       "  <thead>\n",
       "    <tr style=\"text-align: right;\">\n",
       "      <th></th>\n",
       "      <th>SeniorCitizen</th>\n",
       "      <th>tenure</th>\n",
       "      <th>MonthlyCharges</th>\n",
       "      <th>TotalCharges</th>\n",
       "      <th>Automatic</th>\n",
       "      <th>gender_Female</th>\n",
       "      <th>gender_Male</th>\n",
       "      <th>Partner_No</th>\n",
       "      <th>Partner_Yes</th>\n",
       "      <th>Dependents_No</th>\n",
       "      <th>...</th>\n",
       "      <th>Contract_Month-to-month</th>\n",
       "      <th>Contract_One year</th>\n",
       "      <th>Contract_Two year</th>\n",
       "      <th>PaperlessBilling_No</th>\n",
       "      <th>PaperlessBilling_Yes</th>\n",
       "      <th>PaymentMethod_Bank transfer (automatic)</th>\n",
       "      <th>PaymentMethod_Credit card (automatic)</th>\n",
       "      <th>PaymentMethod_Electronic check</th>\n",
       "      <th>PaymentMethod_Mailed check</th>\n",
       "      <th>Churn</th>\n",
       "    </tr>\n",
       "  </thead>\n",
       "  <tbody>\n",
       "    <tr>\n",
       "      <th>0</th>\n",
       "      <td>0</td>\n",
       "      <td>0.000000</td>\n",
       "      <td>0.115423</td>\n",
       "      <td>0.001275</td>\n",
       "      <td>0</td>\n",
       "      <td>1</td>\n",
       "      <td>0</td>\n",
       "      <td>0</td>\n",
       "      <td>1</td>\n",
       "      <td>1</td>\n",
       "      <td>...</td>\n",
       "      <td>1</td>\n",
       "      <td>0</td>\n",
       "      <td>0</td>\n",
       "      <td>0</td>\n",
       "      <td>1</td>\n",
       "      <td>0</td>\n",
       "      <td>0</td>\n",
       "      <td>1</td>\n",
       "      <td>0</td>\n",
       "      <td>0</td>\n",
       "    </tr>\n",
       "    <tr>\n",
       "      <th>1</th>\n",
       "      <td>0</td>\n",
       "      <td>0.464789</td>\n",
       "      <td>0.385075</td>\n",
       "      <td>0.215867</td>\n",
       "      <td>0</td>\n",
       "      <td>0</td>\n",
       "      <td>1</td>\n",
       "      <td>1</td>\n",
       "      <td>0</td>\n",
       "      <td>1</td>\n",
       "      <td>...</td>\n",
       "      <td>0</td>\n",
       "      <td>1</td>\n",
       "      <td>0</td>\n",
       "      <td>1</td>\n",
       "      <td>0</td>\n",
       "      <td>0</td>\n",
       "      <td>0</td>\n",
       "      <td>0</td>\n",
       "      <td>1</td>\n",
       "      <td>0</td>\n",
       "    </tr>\n",
       "    <tr>\n",
       "      <th>2</th>\n",
       "      <td>0</td>\n",
       "      <td>0.014085</td>\n",
       "      <td>0.354229</td>\n",
       "      <td>0.010310</td>\n",
       "      <td>0</td>\n",
       "      <td>0</td>\n",
       "      <td>1</td>\n",
       "      <td>1</td>\n",
       "      <td>0</td>\n",
       "      <td>1</td>\n",
       "      <td>...</td>\n",
       "      <td>1</td>\n",
       "      <td>0</td>\n",
       "      <td>0</td>\n",
       "      <td>0</td>\n",
       "      <td>1</td>\n",
       "      <td>0</td>\n",
       "      <td>0</td>\n",
       "      <td>0</td>\n",
       "      <td>1</td>\n",
       "      <td>1</td>\n",
       "    </tr>\n",
       "    <tr>\n",
       "      <th>3</th>\n",
       "      <td>0</td>\n",
       "      <td>0.619718</td>\n",
       "      <td>0.239303</td>\n",
       "      <td>0.210241</td>\n",
       "      <td>1</td>\n",
       "      <td>0</td>\n",
       "      <td>1</td>\n",
       "      <td>1</td>\n",
       "      <td>0</td>\n",
       "      <td>1</td>\n",
       "      <td>...</td>\n",
       "      <td>0</td>\n",
       "      <td>1</td>\n",
       "      <td>0</td>\n",
       "      <td>1</td>\n",
       "      <td>0</td>\n",
       "      <td>1</td>\n",
       "      <td>0</td>\n",
       "      <td>0</td>\n",
       "      <td>0</td>\n",
       "      <td>0</td>\n",
       "    </tr>\n",
       "    <tr>\n",
       "      <th>4</th>\n",
       "      <td>0</td>\n",
       "      <td>0.014085</td>\n",
       "      <td>0.521891</td>\n",
       "      <td>0.015330</td>\n",
       "      <td>0</td>\n",
       "      <td>1</td>\n",
       "      <td>0</td>\n",
       "      <td>1</td>\n",
       "      <td>0</td>\n",
       "      <td>1</td>\n",
       "      <td>...</td>\n",
       "      <td>1</td>\n",
       "      <td>0</td>\n",
       "      <td>0</td>\n",
       "      <td>0</td>\n",
       "      <td>1</td>\n",
       "      <td>0</td>\n",
       "      <td>0</td>\n",
       "      <td>1</td>\n",
       "      <td>0</td>\n",
       "      <td>1</td>\n",
       "    </tr>\n",
       "  </tbody>\n",
       "</table>\n",
       "<p>5 rows × 40 columns</p>\n",
       "</div>"
      ],
      "text/plain": [
       "   SeniorCitizen    tenure  MonthlyCharges  TotalCharges  Automatic  \\\n",
       "0              0  0.000000        0.115423      0.001275          0   \n",
       "1              0  0.464789        0.385075      0.215867          0   \n",
       "2              0  0.014085        0.354229      0.010310          0   \n",
       "3              0  0.619718        0.239303      0.210241          1   \n",
       "4              0  0.014085        0.521891      0.015330          0   \n",
       "\n",
       "   gender_Female  gender_Male  Partner_No  Partner_Yes  Dependents_No  ...  \\\n",
       "0              1            0           0            1              1  ...   \n",
       "1              0            1           1            0              1  ...   \n",
       "2              0            1           1            0              1  ...   \n",
       "3              0            1           1            0              1  ...   \n",
       "4              1            0           1            0              1  ...   \n",
       "\n",
       "   Contract_Month-to-month  Contract_One year  Contract_Two year  \\\n",
       "0                        1                  0                  0   \n",
       "1                        0                  1                  0   \n",
       "2                        1                  0                  0   \n",
       "3                        0                  1                  0   \n",
       "4                        1                  0                  0   \n",
       "\n",
       "   PaperlessBilling_No  PaperlessBilling_Yes  \\\n",
       "0                    0                     1   \n",
       "1                    1                     0   \n",
       "2                    0                     1   \n",
       "3                    1                     0   \n",
       "4                    0                     1   \n",
       "\n",
       "   PaymentMethod_Bank transfer (automatic)  \\\n",
       "0                                        0   \n",
       "1                                        0   \n",
       "2                                        0   \n",
       "3                                        1   \n",
       "4                                        0   \n",
       "\n",
       "   PaymentMethod_Credit card (automatic)  PaymentMethod_Electronic check  \\\n",
       "0                                      0                               1   \n",
       "1                                      0                               0   \n",
       "2                                      0                               0   \n",
       "3                                      0                               0   \n",
       "4                                      0                               1   \n",
       "\n",
       "   PaymentMethod_Mailed check  Churn  \n",
       "0                           0      0  \n",
       "1                           1      0  \n",
       "2                           1      1  \n",
       "3                           0      0  \n",
       "4                           0      1  \n",
       "\n",
       "[5 rows x 40 columns]"
      ]
     },
     "execution_count": 113,
     "metadata": {},
     "output_type": "execute_result"
    }
   ],
   "source": [
    "# We will use over sampled data for further analysis\n",
    "new_df = pd.concat([X,y],axis=1)\n",
    "new_df.head()"
   ]
  },
  {
   "cell_type": "markdown",
   "id": "4eb7b88f-bbdf-4af6-9283-d4ea7a6e08a6",
   "metadata": {},
   "source": [
    "## Some other models"
   ]
  },
  {
   "cell_type": "code",
   "execution_count": 114,
   "id": "908f310b-62a3-4179-9b08-804155f55109",
   "metadata": {},
   "outputs": [],
   "source": [
    "X_train, X_test, y_train,y_test = train_test_split(X,y,train_size=0.8,random_state=42)"
   ]
  },
  {
   "cell_type": "markdown",
   "id": "31c5d264-d163-476d-94c4-f611ade7203d",
   "metadata": {},
   "source": [
    "### Support Vector Classifier"
   ]
  },
  {
   "cell_type": "code",
   "execution_count": 115,
   "id": "215cfcff-ae91-40e1-81d6-5c87ad393214",
   "metadata": {},
   "outputs": [
    {
     "name": "stdout",
     "output_type": "stream",
     "text": [
      "Accuracy Score: 0.8402710551790901\n",
      "Precision Score: 0.8403115871470301\n",
      "Recall Score: 0.8386783284742468\n",
      "F1 Score: 0.8394941634241244\n"
     ]
    }
   ],
   "source": [
    "from sklearn.svm import SVC\n",
    "svc = SVC()\n",
    "svc.fit(X_train,y_train)\n",
    "y_pred = svc.predict(X_test)\n",
    "score_check(y_test,y_pred)"
   ]
  },
  {
   "cell_type": "markdown",
   "id": "ff3494e5-7f89-41da-b3d8-27240bbc2a09",
   "metadata": {},
   "source": [
    "### KNeighbors Classifier"
   ]
  },
  {
   "cell_type": "code",
   "execution_count": 116,
   "id": "7ff5ee27-f793-46bb-858f-8ca81f6c7d93",
   "metadata": {},
   "outputs": [
    {
     "name": "stdout",
     "output_type": "stream",
     "text": [
      "Accuracy Score: 0.824298160696999\n",
      "Precision Score: 0.7803030303030303\n",
      "Recall Score: 0.9008746355685131\n",
      "F1 Score: 0.8362652232746955\n"
     ]
    }
   ],
   "source": [
    "from sklearn.neighbors import KNeighborsClassifier\n",
    "knn = KNeighborsClassifier()\n",
    "knn.fit(X_train,y_train)\n",
    "y_pred = knn.predict(X_test)\n",
    "score_check(y_test,y_pred)"
   ]
  },
  {
   "cell_type": "markdown",
   "id": "4c81bbf8-0f39-4d4f-a427-4afe89bb9a9f",
   "metadata": {},
   "source": [
    "### Decision Tree Classifier"
   ]
  },
  {
   "cell_type": "code",
   "execution_count": 117,
   "id": "fecdf1fd-bed7-40fe-8e4d-782e24235d75",
   "metadata": {},
   "outputs": [
    {
     "name": "stdout",
     "output_type": "stream",
     "text": [
      "Accuracy Score: 0.7691190706679574\n",
      "Precision Score: 0.7679611650485437\n",
      "Recall Score: 0.7687074829931972\n",
      "F1 Score: 0.7683341427877611\n"
     ]
    }
   ],
   "source": [
    "from sklearn.tree import DecisionTreeClassifier\n",
    "decision_tree = DecisionTreeClassifier()\n",
    "decision_tree.fit(X_train,y_train)\n",
    "y_pred = decision_tree.predict(X_test)\n",
    "score_check(y_test,y_pred)"
   ]
  },
  {
   "cell_type": "markdown",
   "id": "261f1746-619d-4a6a-b38c-6e35e106a26d",
   "metadata": {},
   "source": [
    "### Random Forest Classifier"
   ]
  },
  {
   "cell_type": "code",
   "execution_count": 118,
   "id": "6bc2ddcb-ea90-4391-ad85-c8427870908d",
   "metadata": {},
   "outputs": [
    {
     "name": "stdout",
     "output_type": "stream",
     "text": [
      "Accuracy Score: 0.8518877057115198\n",
      "Precision Score: 0.8388003748828491\n",
      "Recall Score: 0.86977648202138\n",
      "F1 Score: 0.8540076335877862\n"
     ]
    }
   ],
   "source": [
    "from sklearn.ensemble import RandomForestClassifier\n",
    "random_forest = RandomForestClassifier()\n",
    "random_forest.fit(X_train,y_train)\n",
    "y_pred = random_forest.predict(X_test)\n",
    "score_check(y_test,y_pred)"
   ]
  },
  {
   "cell_type": "markdown",
   "id": "f50ff84f-2b7e-4ddc-8e8f-f1c06c7adbb4",
   "metadata": {},
   "source": [
    "### Improving Logistic Regression Model"
   ]
  },
  {
   "cell_type": "code",
   "execution_count": 119,
   "id": "31926dfc-71e2-4db6-8b8e-14fdfe2e77e1",
   "metadata": {},
   "outputs": [],
   "source": [
    "from sklearn.model_selection import GridSearchCV"
   ]
  },
  {
   "cell_type": "code",
   "execution_count": 120,
   "id": "cd8b9093-a9a4-4e61-9ac0-560ccdb88463",
   "metadata": {},
   "outputs": [
    {
     "name": "stdout",
     "output_type": "stream",
     "text": [
      "LogisticRegression(C=100, random_state=42, tol=1.0)\n",
      "Accuracy Score: 0.8354307841239109\n",
      "Precision Score: 0.8367546432062561\n",
      "Recall Score: 0.8318756073858115\n",
      "F1 Score: 0.834307992202729\n"
     ]
    }
   ],
   "source": [
    "tuned_parameters = [{'penalty' : ['l1', 'l2', 'elasticnet'],'tol':[1e4,1e3,1e2,1e1,1e0,1e-1,1e-2,1e-3,1e-4],'C':[10**-4,10**-2,10**0,10**2,10**4]}]\n",
    "X_train, X_test, y_train,y_test = train_test_split(X,y,train_size=0.8,random_state=42)\n",
    "\n",
    "model = GridSearchCV(LogisticRegression(random_state=42),tuned_parameters,scoring='f1')\n",
    "\n",
    "model.fit(X_train,y_train)\n",
    "y_pred = model.predict(X_test)\n",
    "print(model.best_estimator_)\n",
    "score_check(y_test,y_pred)"
   ]
  },
  {
   "cell_type": "markdown",
   "id": "9363f10e-8fd2-4606-b989-6c8a7ecd9c12",
   "metadata": {},
   "source": [
    "# Saving the Model"
   ]
  },
  {
   "cell_type": "markdown",
   "id": "16515068-12e2-4a5a-a8e3-d160e7265e1a",
   "metadata": {},
   "source": [
    "Since Random Forest performs best, we will save it for future use cases."
   ]
  },
  {
   "cell_type": "code",
   "execution_count": 121,
   "id": "eab74f0e-17d0-46e3-80ef-f8326a024761",
   "metadata": {},
   "outputs": [],
   "source": [
    "final_model = RandomForestClassifier()\n",
    "pickle.dump(final_model, open('RandomForest.pkl','wb'))"
   ]
  }
 ],
 "metadata": {
  "kernelspec": {
   "display_name": "Python 3 (ipykernel)",
   "language": "python",
   "name": "python3"
  },
  "language_info": {
   "codemirror_mode": {
    "name": "ipython",
    "version": 3
   },
   "file_extension": ".py",
   "mimetype": "text/x-python",
   "name": "python",
   "nbconvert_exporter": "python",
   "pygments_lexer": "ipython3",
   "version": "3.10.7"
  }
 },
 "nbformat": 4,
 "nbformat_minor": 5
}
